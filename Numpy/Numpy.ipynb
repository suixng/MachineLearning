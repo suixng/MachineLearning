{
 "cells": [
  {
   "cell_type": "code",
   "execution_count": 1,
   "id": "dfc2ae92",
   "metadata": {
    "ExecuteTime": {
     "end_time": "2022-01-18T02:46:47.095850Z",
     "start_time": "2022-01-18T02:46:46.389499Z"
    }
   },
   "outputs": [],
   "source": [
    "import numpy as np"
   ]
  },
  {
   "cell_type": "markdown",
   "id": "033378c6",
   "metadata": {},
   "source": [
    "# Numpy数组属性"
   ]
  },
  {
   "cell_type": "markdown",
   "id": "2515e9ec",
   "metadata": {},
   "source": [
    "## ndarray.ndim(返回数组的维数，等于轶)"
   ]
  },
  {
   "cell_type": "code",
   "execution_count": 2,
   "id": "964a8f4a",
   "metadata": {
    "ExecuteTime": {
     "end_time": "2022-01-18T02:47:32.421951Z",
     "start_time": "2022-01-18T02:47:32.412922Z"
    }
   },
   "outputs": [
    {
     "name": "stdout",
     "output_type": "stream",
     "text": [
      "1\n"
     ]
    }
   ],
   "source": [
    "a = np.arange(24)\n",
    "print(a.ndim)"
   ]
  },
  {
   "cell_type": "code",
   "execution_count": 3,
   "id": "ed214470",
   "metadata": {
    "ExecuteTime": {
     "end_time": "2022-01-18T02:47:51.425970Z",
     "start_time": "2022-01-18T02:47:51.408974Z"
    }
   },
   "outputs": [
    {
     "name": "stdout",
     "output_type": "stream",
     "text": [
      "3\n"
     ]
    }
   ],
   "source": [
    "b = a.reshape(2,4,3)\n",
    "print(b.ndim)"
   ]
  },
  {
   "cell_type": "markdown",
   "id": "46bd437f",
   "metadata": {},
   "source": [
    "## ndarray.shape(返回数组的维度，返回一个元祖)"
   ]
  },
  {
   "cell_type": "code",
   "execution_count": 4,
   "id": "249a8c99",
   "metadata": {
    "ExecuteTime": {
     "end_time": "2022-01-18T02:50:36.481450Z",
     "start_time": "2022-01-18T02:50:36.472520Z"
    }
   },
   "outputs": [
    {
     "name": "stdout",
     "output_type": "stream",
     "text": [
      "(2, 3)\n"
     ]
    }
   ],
   "source": [
    "a = np.array([[1,2,3],[4,5,6]])\n",
    "print(a.shape)"
   ]
  },
  {
   "cell_type": "code",
   "execution_count": 5,
   "id": "e1acd887",
   "metadata": {
    "ExecuteTime": {
     "end_time": "2022-01-18T02:51:01.749626Z",
     "start_time": "2022-01-18T02:51:01.725671Z"
    }
   },
   "outputs": [
    {
     "name": "stdout",
     "output_type": "stream",
     "text": [
      "[[1 2]\n",
      " [3 4]\n",
      " [5 6]]\n"
     ]
    }
   ],
   "source": [
    "a.shape = (3,2)\n",
    "print(a)"
   ]
  },
  {
   "cell_type": "code",
   "execution_count": 6,
   "id": "b3602e70",
   "metadata": {
    "ExecuteTime": {
     "end_time": "2022-01-18T02:51:24.083548Z",
     "start_time": "2022-01-18T02:51:24.061531Z"
    }
   },
   "outputs": [
    {
     "name": "stdout",
     "output_type": "stream",
     "text": [
      "[[1 2 3]\n",
      " [4 5 6]]\n"
     ]
    }
   ],
   "source": [
    "b = a.reshape(2,3)\n",
    "print(b)"
   ]
  },
  {
   "cell_type": "markdown",
   "id": "9c7c784b",
   "metadata": {},
   "source": [
    "## ndarray.itemsize(以字节的形式返回每个元素的大小)"
   ]
  },
  {
   "cell_type": "code",
   "execution_count": 8,
   "id": "e7677ee4",
   "metadata": {
    "ExecuteTime": {
     "end_time": "2022-01-18T02:55:15.973490Z",
     "start_time": "2022-01-18T02:55:15.952549Z"
    }
   },
   "outputs": [
    {
     "name": "stdout",
     "output_type": "stream",
     "text": [
      "1\n"
     ]
    }
   ],
   "source": [
    "x = np.array([1,2,3,4,5], dtype=np.int8)\n",
    "print(x.itemsize)"
   ]
  },
  {
   "cell_type": "code",
   "execution_count": 9,
   "id": "2435e091",
   "metadata": {
    "ExecuteTime": {
     "end_time": "2022-01-18T02:55:52.187053Z",
     "start_time": "2022-01-18T02:55:52.176079Z"
    }
   },
   "outputs": [
    {
     "name": "stdout",
     "output_type": "stream",
     "text": [
      "8\n"
     ]
    }
   ],
   "source": [
    "y = np.array([1,2,3,4,5], dtype=np.float64)\n",
    "print(y.itemsize)"
   ]
  },
  {
   "cell_type": "markdown",
   "id": "5e8df6d1",
   "metadata": {},
   "source": [
    "## ndarray.flags(返回ndarray对象的内存信息)"
   ]
  },
  {
   "cell_type": "code",
   "execution_count": 10,
   "id": "0a218520",
   "metadata": {
    "ExecuteTime": {
     "end_time": "2022-01-18T02:57:31.932199Z",
     "start_time": "2022-01-18T02:57:31.910261Z"
    }
   },
   "outputs": [
    {
     "name": "stdout",
     "output_type": "stream",
     "text": [
      "  C_CONTIGUOUS : True\n",
      "  F_CONTIGUOUS : True\n",
      "  OWNDATA : True\n",
      "  WRITEABLE : True\n",
      "  ALIGNED : True\n",
      "  WRITEBACKIFCOPY : False\n",
      "  UPDATEIFCOPY : False\n",
      "\n"
     ]
    }
   ],
   "source": [
    "x = np.array([1,2,3,4,5])\n",
    "print(x.flags)"
   ]
  },
  {
   "cell_type": "markdown",
   "id": "865d3813",
   "metadata": {},
   "source": [
    "C_CONTIGUOUS:数组是在一个单一的C风格的连续段中\n",
    "F_CONTIGUOUS:数据是在一个单一的FORTRAN风格的连续段中\n",
    "OWNDATA:数组拥有它所使用的内存或从另一个对象中借用它\n",
    "WRITEABLE:数组区域可以被写入，将该值设置为FALSE，则数据为只读\n",
    "ALIGNED:数据和所有元素都适当的对齐到硬件上\n",
    "UPDATEIFCOPY:这个数组是其他数组的一个副本，当这个数组被释放时，原数组的内容将被更新"
   ]
  },
  {
   "cell_type": "markdown",
   "id": "5d083133",
   "metadata": {},
   "source": [
    "# Numpy创建数组"
   ]
  },
  {
   "cell_type": "markdown",
   "id": "c541bd1d",
   "metadata": {},
   "source": [
    "## numpy.empty(shape, dtype=float, order='C')\n",
    "创建一个指定形状，数据类型且未初始化的数组"
   ]
  },
  {
   "cell_type": "code",
   "execution_count": 18,
   "id": "b61b2f6b",
   "metadata": {
    "ExecuteTime": {
     "end_time": "2022-01-18T03:07:55.922215Z",
     "start_time": "2022-01-18T03:07:55.905268Z"
    }
   },
   "outputs": [
    {
     "name": "stdout",
     "output_type": "stream",
     "text": [
      "[[637476624       611]\n",
      " [        0         0]\n",
      " [   131074         0]]\n"
     ]
    }
   ],
   "source": [
    "x = np.empty([3,2], dtype=int)\n",
    "print(x)"
   ]
  },
  {
   "cell_type": "markdown",
   "id": "f131ac34",
   "metadata": {},
   "source": [
    "## numpy.zeros\n",
    "创建指定大小的数组，数组元素以0来填充"
   ]
  },
  {
   "cell_type": "code",
   "execution_count": 26,
   "id": "1195f9c8",
   "metadata": {
    "ExecuteTime": {
     "end_time": "2022-01-18T03:14:03.652402Z",
     "start_time": "2022-01-18T03:14:03.637446Z"
    }
   },
   "outputs": [
    {
     "name": "stdout",
     "output_type": "stream",
     "text": [
      "[0. 0. 0. 0. 0.]\n",
      "[0 0 0 0 0]\n",
      "[[(0, 0) (0, 0)]\n",
      " [(0, 0) (0, 0)]]\n"
     ]
    }
   ],
   "source": [
    "x = np.zeros(5)\n",
    "print(x)\n",
    "\n",
    "y = np.zeros((5,), dtype=int)\n",
    "print(y)\n",
    "\n",
    "z = np.zeros((2,2), dtype=[('x','i4'),('y','i4')])\n",
    "print(z)"
   ]
  },
  {
   "cell_type": "markdown",
   "id": "42771035",
   "metadata": {},
   "source": [
    "## numpy.ones\n",
    "创建指定形状的数组，数组元素以1来填充"
   ]
  },
  {
   "cell_type": "code",
   "execution_count": 28,
   "id": "6ee7f230",
   "metadata": {
    "ExecuteTime": {
     "end_time": "2022-01-18T03:14:26.398262Z",
     "start_time": "2022-01-18T03:14:26.381271Z"
    }
   },
   "outputs": [
    {
     "name": "stdout",
     "output_type": "stream",
     "text": [
      "[1. 1. 1. 1. 1.]\n",
      "[[1 1]\n",
      " [1 1]]\n"
     ]
    }
   ],
   "source": [
    "x = np.ones(5)\n",
    "print(x)\n",
    "\n",
    "x = np.ones([2,2], dtype=int)\n",
    "print(x)"
   ]
  },
  {
   "cell_type": "code",
   "execution_count": null,
   "id": "4080d98f",
   "metadata": {},
   "outputs": [],
   "source": []
  }
 ],
 "metadata": {
  "kernelspec": {
   "display_name": "Python 3 (ipykernel)",
   "language": "python",
   "name": "python3"
  },
  "language_info": {
   "codemirror_mode": {
    "name": "ipython",
    "version": 3
   },
   "file_extension": ".py",
   "mimetype": "text/x-python",
   "name": "python",
   "nbconvert_exporter": "python",
   "pygments_lexer": "ipython3",
   "version": "3.9.6"
  }
 },
 "nbformat": 4,
 "nbformat_minor": 5
}
