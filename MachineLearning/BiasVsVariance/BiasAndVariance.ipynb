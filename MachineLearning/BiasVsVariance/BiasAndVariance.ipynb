{
 "cells": [
  {
   "cell_type": "markdown",
   "id": "8aaf444e",
   "metadata": {},
   "source": [
    "## 偏差和方差"
   ]
  },
  {
   "cell_type": "code",
   "execution_count": 48,
   "id": "26ff27eb",
   "metadata": {
    "ExecuteTime": {
     "end_time": "2022-03-07T12:14:10.472541Z",
     "start_time": "2022-03-07T12:14:10.467521Z"
    }
   },
   "outputs": [],
   "source": [
    "import numpy as np\n",
    "import scipy.io as sio\n",
    "import scipy.optimize as opt\n",
    "import pandas as pd\n",
    "import matplotlib.pyplot as plt\n",
    "import seaborn as sns"
   ]
  },
  {
   "cell_type": "code",
   "execution_count": 49,
   "id": "a2ea5e1e",
   "metadata": {
    "ExecuteTime": {
     "end_time": "2022-03-07T12:14:11.015478Z",
     "start_time": "2022-03-07T12:14:11.007500Z"
    }
   },
   "outputs": [],
   "source": [
    "def load_data():\n",
    "    d = sio.loadmat('ex5data1.mat')\n",
    "    # print(d)\n",
    "    return map(np.ravel, [d['X'], d['y'], d['Xval'], d['yval'], d['Xtest'], d['ytest']])"
   ]
  },
  {
   "cell_type": "code",
   "execution_count": 50,
   "id": "b7ab4fb2",
   "metadata": {
    "ExecuteTime": {
     "end_time": "2022-03-07T12:14:11.514630Z",
     "start_time": "2022-03-07T12:14:11.501811Z"
    }
   },
   "outputs": [],
   "source": [
    "X, y, Xval, yval, Xtest, ytest = load_data()"
   ]
  },
  {
   "cell_type": "code",
   "execution_count": 51,
   "id": "55c39add",
   "metadata": {
    "ExecuteTime": {
     "end_time": "2022-03-07T12:14:12.233202Z",
     "start_time": "2022-03-07T12:14:12.042166Z"
    }
   },
   "outputs": [
    {
     "data": {
      "image/png": "[encoded data removed]",
      "text/plain": [
       "<Figure size 504x504 with 1 Axes>"
      ]
     },
     "metadata": {
      "needs_background": "light"
     },
     "output_type": "display_data"
    }
   ],
   "source": [
    "df = pd.DataFrame({'water_level':X, 'flow':y})\n",
    "\n",
    "sns.lmplot(x='water_level', y='flow', data=df, fit_reg=False, height=7)\n",
    "plt.show()"
   ]
  },
  {
   "cell_type": "code",
   "execution_count": 52,
   "id": "460ef9c5",
   "metadata": {
    "ExecuteTime": {
     "end_time": "2022-03-07T12:14:14.137136Z",
     "start_time": "2022-03-07T12:14:14.126125Z"
    }
   },
   "outputs": [],
   "source": [
    "X, Xval, Xtest = [np.insert(x.reshape(x.shape[0], 1), 0, np.ones(x.shape[0]), axis=1) for x in (X, Xval, Xtest)]"
   ]
  },
  {
   "cell_type": "code",
   "execution_count": 53,
   "id": "8912fa91",
   "metadata": {
    "ExecuteTime": {
     "end_time": "2022-03-07T12:14:14.758633Z",
     "start_time": "2022-03-07T12:14:14.752675Z"
    }
   },
   "outputs": [
    {
     "data": {
      "text/plain": [
       "(12, 2)"
      ]
     },
     "execution_count": 53,
     "metadata": {},
     "output_type": "execute_result"
    }
   ],
   "source": [
    "# print(X,Xval,Xtest)\n",
    "\n",
    "X.shape"
   ]
  },
  {
   "cell_type": "markdown",
   "id": "4790b56b",
   "metadata": {},
   "source": [
    "## 代价函数"
   ]
  },
  {
   "cell_type": "code",
   "execution_count": 54,
   "id": "86d4af55",
   "metadata": {
    "ExecuteTime": {
     "end_time": "2022-03-07T12:14:17.418456Z",
     "start_time": "2022-03-07T12:14:17.408484Z"
    }
   },
   "outputs": [],
   "source": [
    "def cost(theta, X, y):\n",
    "    # X: R(m*n), m records, n features\n",
    "    # y: R(m)\n",
    "    # theta: R(n), linear regression parameters\n",
    "    \n",
    "    m = X.shape[0]\n",
    "    \n",
    "    inner = X @ theta - y # R(m*1)\n",
    "    \n",
    "    square_sum = inner.T @ inner\n",
    "    cost = square_sum / (2 * m)\n",
    "    \n",
    "    return cost"
   ]
  },
  {
   "cell_type": "code",
   "execution_count": 55,
   "id": "49958e53",
   "metadata": {
    "ExecuteTime": {
     "end_time": "2022-03-07T12:14:17.994510Z",
     "start_time": "2022-03-07T12:14:17.982950Z"
    }
   },
   "outputs": [
    {
     "data": {
      "text/plain": [
       "303.9515255535976"
      ]
     },
     "execution_count": 55,
     "metadata": {},
     "output_type": "execute_result"
    }
   ],
   "source": [
    "theta = np.ones(X.shape[1])\n",
    "cost(theta, X, y)"
   ]
  },
  {
   "cell_type": "markdown",
   "id": "68049eb1",
   "metadata": {},
   "source": [
    "## 梯度"
   ]
  },
  {
   "cell_type": "code",
   "execution_count": 56,
   "id": "9d35ce2b",
   "metadata": {
    "ExecuteTime": {
     "end_time": "2022-03-07T12:14:20.403946Z",
     "start_time": "2022-03-07T12:14:20.388923Z"
    }
   },
   "outputs": [],
   "source": [
    "def gradient(theta, X, y):\n",
    "    m = X.shape[0]\n",
    "    \n",
    "    inner = X.T @ (X @ theta - y) # (m,n).T @ (m,1) -> (n,1)\n",
    "    \n",
    "    return inner / m"
   ]
  },
  {
   "cell_type": "code",
   "execution_count": 57,
   "id": "908d2cf2",
   "metadata": {
    "ExecuteTime": {
     "end_time": "2022-03-07T12:14:20.884706Z",
     "start_time": "2022-03-07T12:14:20.874135Z"
    }
   },
   "outputs": [
    {
     "data": {
      "text/plain": [
       "array([-15.30301567, 598.16741084])"
      ]
     },
     "execution_count": 57,
     "metadata": {},
     "output_type": "execute_result"
    }
   ],
   "source": [
    "gradient(theta, X, y)"
   ]
  },
  {
   "cell_type": "markdown",
   "id": "e29563de",
   "metadata": {},
   "source": [
    "## 正则化梯度"
   ]
  },
  {
   "cell_type": "code",
   "execution_count": 58,
   "id": "8ed6cfd7",
   "metadata": {
    "ExecuteTime": {
     "end_time": "2022-03-07T12:14:23.389259Z",
     "start_time": "2022-03-07T12:14:23.370248Z"
    }
   },
   "outputs": [],
   "source": [
    "def regularized_gradient(theta, X, y, l=1):\n",
    "    m = X.shape[0]\n",
    "    \n",
    "    regularized_term = theta.copy() # same shape as theta\n",
    "    regularized_term[0] = 0 # don't regularize intercept theta\n",
    "    \n",
    "    regularized_term = (l / m) * regularized_term\n",
    "    \n",
    "    return gradient(theta, X, y) + regularized_term"
   ]
  },
  {
   "cell_type": "code",
   "execution_count": 59,
   "id": "96e5a390",
   "metadata": {
    "ExecuteTime": {
     "end_time": "2022-03-07T12:14:23.918084Z",
     "start_time": "2022-03-07T12:14:23.910106Z"
    }
   },
   "outputs": [
    {
     "data": {
      "text/plain": [
       "array([-15.30301567, 598.25074417])"
      ]
     },
     "execution_count": 59,
     "metadata": {},
     "output_type": "execute_result"
    }
   ],
   "source": [
    "regularized_gradient(theta, X, y)"
   ]
  },
  {
   "cell_type": "markdown",
   "id": "a5ce3982",
   "metadata": {},
   "source": [
    "## 拟合数据"
   ]
  },
  {
   "cell_type": "markdown",
   "id": "f23c4857",
   "metadata": {},
   "source": [
    "> 正则化项 \\lambda = 0"
   ]
  },
  {
   "cell_type": "code",
   "execution_count": 60,
   "id": "34dbc098",
   "metadata": {
    "ExecuteTime": {
     "end_time": "2022-03-07T12:14:25.784761Z",
     "start_time": "2022-03-07T12:14:25.777753Z"
    }
   },
   "outputs": [],
   "source": [
    "def linear_regression_np(X, y ,l=1):\n",
    "    # init theta\n",
    "    theta = np.ones(X.shape[1])\n",
    "    \n",
    "    # train it\n",
    "    res = opt.minimize(fun=regularized_cost,\n",
    "                       x0=theta,\n",
    "                       args=(X, y, l),\n",
    "                       method='TNC',\n",
    "                       jac=regularized_gradient,\n",
    "                       options={'disp': True})\n",
    "    return res"
   ]
  },
  {
   "cell_type": "code",
   "execution_count": 61,
   "id": "373fcf33",
   "metadata": {
    "ExecuteTime": {
     "end_time": "2022-03-07T12:14:27.703366Z",
     "start_time": "2022-03-07T12:14:27.692036Z"
    }
   },
   "outputs": [],
   "source": [
    "def regularized_cost(theta, X, y, l=1):\n",
    "    m = X.shape[0]\n",
    "    \n",
    "    regularized_term = (l / (2 * m)) * np.power(theta[1:], 2).sum()\n",
    "    \n",
    "    return cost(theta, X, y) + regularized_term"
   ]
  },
  {
   "cell_type": "code",
   "execution_count": 62,
   "id": "e318aee4",
   "metadata": {
    "ExecuteTime": {
     "end_time": "2022-03-07T12:14:28.282195Z",
     "start_time": "2022-03-07T12:14:28.264259Z"
    }
   },
   "outputs": [],
   "source": [
    "theta = np.ones(X.shape[0])\n",
    "\n",
    "final_theta = linear_regression_np(X, y, l=0).get('x')"
   ]
  },
  {
   "cell_type": "code",
   "execution_count": 63,
   "id": "c1027785",
   "metadata": {
    "ExecuteTime": {
     "end_time": "2022-03-07T12:14:28.904156Z",
     "start_time": "2022-03-07T12:14:28.792968Z"
    }
   },
   "outputs": [
    {
     "data": {
      "image/png": "[encoded data removed]",
      "text/plain": [
       "<Figure size 432x288 with 1 Axes>"
      ]
     },
     "metadata": {
      "needs_background": "light"
     },
     "output_type": "display_data"
    }
   ],
   "source": [
    "b = final_theta[0] # intercept\n",
    "m = final_theta[1] # slope\n",
    "\n",
    "plt.scatter(X[:, 1], y, label=\"Training data\")\n",
    "plt.plot(X[:, 1], X[:, 1]*m + b, label=\"Prediction\")\n",
    "plt.legend(loc=2)\n",
    "plt.show()"
   ]
  },
  {
   "cell_type": "code",
   "execution_count": 64,
   "id": "0a399eb8",
   "metadata": {
    "ExecuteTime": {
     "end_time": "2022-03-07T12:14:30.803339Z",
     "start_time": "2022-03-07T12:14:30.795393Z"
    }
   },
   "outputs": [],
   "source": [
    "training_cost, cv_cost = [], []"
   ]
  },
  {
   "cell_type": "markdown",
   "id": "6812477a",
   "metadata": {},
   "source": [
    "- 使用训练集的子集来拟合模型\n",
    "- 在计算训练代价和交叉验证代价时，没有用正则化\n",
    "- 记住使用相同的训练集子集来计算训练代价"
   ]
  },
  {
   "cell_type": "code",
   "execution_count": 65,
   "id": "84ff6d00",
   "metadata": {
    "ExecuteTime": {
     "end_time": "2022-03-07T12:14:31.920853Z",
     "start_time": "2022-03-07T12:14:31.875507Z"
    }
   },
   "outputs": [],
   "source": [
    "m = X.shape[0]\n",
    "for i in range(1, m+1):\n",
    "    # print('i={}'.format(i))\n",
    "    res = linear_regression_np(X[:i, :], y[:i], l=0)\n",
    "    \n",
    "    tc = regularized_cost(res.x, X[:i, :], y[:i], l=0)\n",
    "    cv = regularized_cost(res.x, Xval, yval, l=0)\n",
    "    # print('tc={}, cv={}'.format(tc, cv))\n",
    "    \n",
    "    training_cost.append(tc)\n",
    "    cv_cost.append(cv)"
   ]
  },
  {
   "cell_type": "code",
   "execution_count": 66,
   "id": "cc88161f",
   "metadata": {
    "ExecuteTime": {
     "end_time": "2022-03-07T12:14:32.575446Z",
     "start_time": "2022-03-07T12:14:32.472218Z"
    }
   },
   "outputs": [
    {
     "data": {
      "image/png": "[encoded data removed]",
      "text/plain": [
       "<Figure size 432x288 with 1 Axes>"
      ]
     },
     "metadata": {
      "needs_background": "light"
     },
     "output_type": "display_data"
    }
   ],
   "source": [
    "plt.plot(np.arange(1, m+1), training_cost, label='training cost')\n",
    "plt.plot(np.arange(1, m+1), cv_cost, label='cv cost')\n",
    "plt.legend(loc=1)\n",
    "plt.show()"
   ]
  },
  {
   "cell_type": "markdown",
   "id": "7a31eab4",
   "metadata": {},
   "source": [
    "这个模型拟合不太好，**欠拟合了**"
   ]
  },
  {
   "cell_type": "markdown",
   "id": "6dd8ed36",
   "metadata": {},
   "source": [
    "## 创建多项式特征"
   ]
  },
  {
   "cell_type": "code",
   "execution_count": 67,
   "id": "3a3f2cd8",
   "metadata": {
    "ExecuteTime": {
     "end_time": "2022-03-07T12:15:35.010584Z",
     "start_time": "2022-03-07T12:15:34.999623Z"
    }
   },
   "outputs": [],
   "source": [
    "def prepare_poly_data(*args, power):\n",
    "    # args: keep feeding in X, Xval, or Xtest will return in the same order\n",
    "    def prepare(x):\n",
    "        # expand feature\n",
    "        df = poly_features(x, power=power)\n",
    "        \n",
    "        # normalization\n",
    "        ndarr = normalize_feature(df).values\n",
    "        \n",
    "        # add intercept term\n",
    "        return np.insert(ndarr, 0, np.ones(ndarr.shape[0]), axis=1)\n",
    "    \n",
    "    return [prepare(x) for x in args]"
   ]
  },
  {
   "cell_type": "code",
   "execution_count": 104,
   "id": "1327c491",
   "metadata": {
    "ExecuteTime": {
     "end_time": "2022-03-07T08:23:39.009129Z",
     "start_time": "2022-03-07T08:23:39.003210Z"
    }
   },
   "outputs": [],
   "source": [
    "def poly_features(x, power, as_ndrray=False):\n",
    "    data = {'f{}'.format(i): np.power(x, i) for i in range(1, power + 1)}\n",
    "    df = pd.DataFrame(data)\n",
    "    \n",
    "    return df.as_matrix() if as_ndrray else df"
   ]
  },
  {
   "cell_type": "code",
   "execution_count": 105,
   "id": "6150f8e3",
   "metadata": {
    "ExecuteTime": {
     "end_time": "2022-03-07T08:23:39.876527Z",
     "start_time": "2022-03-07T08:23:39.870544Z"
    }
   },
   "outputs": [],
   "source": [
    "X, y, Xval, yval, Xtest, ytest = load_data()"
   ]
  },
  {
   "cell_type": "code",
   "execution_count": 106,
   "id": "0803c8a7",
   "metadata": {
    "ExecuteTime": {
     "end_time": "2022-03-07T08:23:42.296569Z",
     "start_time": "2022-03-07T08:23:42.275501Z"
    }
   },
   "outputs": [
    {
     "data": {
      "text/html": [
       "<div>\n",
       "<style scoped>\n",
       "    .dataframe tbody tr th:only-of-type {\n",
       "        vertical-align: middle;\n",
       "    }\n",
       "\n",
       "    .dataframe tbody tr th {\n",
       "        vertical-align: top;\n",
       "    }\n",
       "\n",
       "    .dataframe thead th {\n",
       "        text-align: right;\n",
       "    }\n",
       "</style>\n",
       "<table border=\"1\" class=\"dataframe\">\n",
       "  <thead>\n",
       "    <tr style=\"text-align: right;\">\n",
       "      <th></th>\n",
       "      <th>f1</th>\n",
       "      <th>f2</th>\n",
       "      <th>f3</th>\n",
       "    </tr>\n",
       "  </thead>\n",
       "  <tbody>\n",
       "    <tr>\n",
       "      <th>0</th>\n",
       "      <td>-15.936758</td>\n",
       "      <td>253.980260</td>\n",
       "      <td>-4047.621971</td>\n",
       "    </tr>\n",
       "    <tr>\n",
       "      <th>1</th>\n",
       "      <td>-29.152979</td>\n",
       "      <td>849.896197</td>\n",
       "      <td>-24777.006175</td>\n",
       "    </tr>\n",
       "    <tr>\n",
       "      <th>2</th>\n",
       "      <td>36.189549</td>\n",
       "      <td>1309.683430</td>\n",
       "      <td>47396.852168</td>\n",
       "    </tr>\n",
       "    <tr>\n",
       "      <th>3</th>\n",
       "      <td>37.492187</td>\n",
       "      <td>1405.664111</td>\n",
       "      <td>52701.422173</td>\n",
       "    </tr>\n",
       "    <tr>\n",
       "      <th>4</th>\n",
       "      <td>-48.058829</td>\n",
       "      <td>2309.651088</td>\n",
       "      <td>-110999.127750</td>\n",
       "    </tr>\n",
       "    <tr>\n",
       "      <th>5</th>\n",
       "      <td>-8.941458</td>\n",
       "      <td>79.949670</td>\n",
       "      <td>-714.866612</td>\n",
       "    </tr>\n",
       "    <tr>\n",
       "      <th>6</th>\n",
       "      <td>15.307793</td>\n",
       "      <td>234.328523</td>\n",
       "      <td>3587.052500</td>\n",
       "    </tr>\n",
       "    <tr>\n",
       "      <th>7</th>\n",
       "      <td>-34.706266</td>\n",
       "      <td>1204.524887</td>\n",
       "      <td>-41804.560890</td>\n",
       "    </tr>\n",
       "    <tr>\n",
       "      <th>8</th>\n",
       "      <td>1.389154</td>\n",
       "      <td>1.929750</td>\n",
       "      <td>2.680720</td>\n",
       "    </tr>\n",
       "    <tr>\n",
       "      <th>9</th>\n",
       "      <td>-44.383760</td>\n",
       "      <td>1969.918139</td>\n",
       "      <td>-87432.373590</td>\n",
       "    </tr>\n",
       "    <tr>\n",
       "      <th>10</th>\n",
       "      <td>7.013502</td>\n",
       "      <td>49.189211</td>\n",
       "      <td>344.988637</td>\n",
       "    </tr>\n",
       "    <tr>\n",
       "      <th>11</th>\n",
       "      <td>22.762749</td>\n",
       "      <td>518.142738</td>\n",
       "      <td>11794.353058</td>\n",
       "    </tr>\n",
       "  </tbody>\n",
       "</table>\n",
       "</div>"
      ],
      "text/plain": [
       "           f1           f2             f3\n",
       "0  -15.936758   253.980260   -4047.621971\n",
       "1  -29.152979   849.896197  -24777.006175\n",
       "2   36.189549  1309.683430   47396.852168\n",
       "3   37.492187  1405.664111   52701.422173\n",
       "4  -48.058829  2309.651088 -110999.127750\n",
       "5   -8.941458    79.949670    -714.866612\n",
       "6   15.307793   234.328523    3587.052500\n",
       "7  -34.706266  1204.524887  -41804.560890\n",
       "8    1.389154     1.929750       2.680720\n",
       "9  -44.383760  1969.918139  -87432.373590\n",
       "10   7.013502    49.189211     344.988637\n",
       "11  22.762749   518.142738   11794.353058"
      ]
     },
     "execution_count": 106,
     "metadata": {},
     "output_type": "execute_result"
    }
   ],
   "source": [
    "poly_feature(X, power=3)"
   ]
  },
  {
   "cell_type": "markdown",
   "id": "3ec69e0f",
   "metadata": {},
   "source": [
    "## 准备多项式回归数据"
   ]
  },
  {
   "cell_type": "markdown",
   "id": "f33aa03a",
   "metadata": {},
   "source": [
    "- 扩展特征到8阶，或者你需要的阶数\n",
    "- 使用归一化来合并!x(n)\n",
    "- don't forget intercept term"
   ]
  },
  {
   "cell_type": "code",
   "execution_count": 107,
   "id": "ad66ce64",
   "metadata": {
    "ExecuteTime": {
     "end_time": "2022-03-07T08:23:47.076472Z",
     "start_time": "2022-03-07T08:23:47.068494Z"
    }
   },
   "outputs": [],
   "source": [
    "def normalize_feature(df):\n",
    "    # Applies function along input axis(default 0) of DataFrame\n",
    "    return df.apply(lambda column: (column - column.mean()) / column.std())"
   ]
  },
  {
   "cell_type": "code",
   "execution_count": 108,
   "id": "9c157e3a",
   "metadata": {
    "ExecuteTime": {
     "end_time": "2022-03-07T08:23:47.841493Z",
     "start_time": "2022-03-07T08:23:47.813140Z"
    }
   },
   "outputs": [
    {
     "data": {
      "text/plain": [
       "array([[ 1.00000000e+00, -3.62140776e-01, -7.55086688e-01,\n",
       "         1.82225876e-01, -7.06189908e-01,  3.06617917e-01,\n",
       "        -5.90877673e-01,  3.44515797e-01, -5.08481165e-01],\n",
       "       [ 1.00000000e+00, -8.03204845e-01,  1.25825266e-03,\n",
       "        -2.47936991e-01, -3.27023420e-01,  9.33963187e-02,\n",
       "        -4.35817606e-01,  2.55416116e-01, -4.48912493e-01],\n",
       "       [ 1.00000000e+00,  1.37746700e+00,  5.84826715e-01,\n",
       "         1.24976856e+00,  2.45311974e-01,  9.78359696e-01,\n",
       "        -1.21556976e-02,  7.56568484e-01, -1.70352114e-01]])"
      ]
     },
     "execution_count": 108,
     "metadata": {},
     "output_type": "execute_result"
    }
   ],
   "source": [
    "X_poly, Xval_poly, Xtest_poly = prepare_poly_data(X, Xval, Xtest, power=8)\n",
    "X_poly[:3, :]"
   ]
  },
  {
   "cell_type": "markdown",
   "id": "936eb65f",
   "metadata": {},
   "source": [
    "## 画出学习曲线"
   ]
  },
  {
   "cell_type": "markdown",
   "id": "345f14eb",
   "metadata": {},
   "source": [
    "> 首先，我们没有使用正则化，所以lambda=0"
   ]
  },
  {
   "cell_type": "code",
   "execution_count": 68,
   "id": "374cb01c",
   "metadata": {
    "ExecuteTime": {
     "end_time": "2022-03-07T12:26:11.560606Z",
     "start_time": "2022-03-07T12:26:11.549727Z"
    }
   },
   "outputs": [],
   "source": [
    "def plot_learning_curve(X, y, Xval, yval, l=0):\n",
    "    training_cost, cv_cost = [], []\n",
    "    m = X.shape[0]\n",
    "    \n",
    "    for i in range(1, m+1):\n",
    "        # regularization applies here for fitting parameters\n",
    "        res = linear_regression_np(X[:i, :], y[:i], l=l)\n",
    "        \n",
    "        # remember, when you compute the cost here, you are computing\n",
    "        # non-regukarized cost, Regularization is used to fit paramerters only\n",
    "        tc = cost(res.x, X[:i, :], y[:i])\n",
    "        cv = cost(res.x, Xval, yval)\n",
    "        \n",
    "        training_cost.append(tc)\n",
    "        cv_cost.append(cv)\n",
    "        \n",
    "    plt.plot(np.arange(1, m+1), training_cost, label='training cost')\n",
    "    plt.plot(np.arange(1, m+1), cv_cost, label='cv cost')\n",
    "    plt.legend(loc=1)"
   ]
  },
  {
   "cell_type": "code",
   "execution_count": 110,
   "id": "4ae3e3b9",
   "metadata": {
    "ExecuteTime": {
     "end_time": "2022-03-07T08:23:52.125731Z",
     "start_time": "2022-03-07T08:23:51.966160Z"
    }
   },
   "outputs": [
    {
     "data": {
      "image/png": "[encoded data removed]",
      "text/plain": [
       "<Figure size 432x288 with 1 Axes>"
      ]
     },
     "metadata": {
      "needs_background": "light"
     },
     "output_type": "display_data"
    }
   ],
   "source": [
    "plot_learning_curve(X_poly, y, Xval_poly, yval, l=0)\n",
    "plt.show()"
   ]
  },
  {
   "cell_type": "markdown",
   "id": "0c6abb9c",
   "metadata": {},
   "source": [
    "训练的代价太低了，不真实，这是**过拟合了**"
   ]
  },
  {
   "cell_type": "code",
   "execution_count": 111,
   "id": "24ec7495",
   "metadata": {
    "ExecuteTime": {
     "end_time": "2022-03-07T08:23:55.313377Z",
     "start_time": "2022-03-07T08:23:55.160536Z"
    }
   },
   "outputs": [
    {
     "data": {
      "image/png": "[encoded data removed]",
      "text/plain": [
       "<Figure size 432x288 with 1 Axes>"
      ]
     },
     "metadata": {
      "needs_background": "light"
     },
     "output_type": "display_data"
    }
   ],
   "source": [
    "plot_learning_curve(X_poly, y, Xval_poly, yval, l=1)\n",
    "plt.show()"
   ]
  },
  {
   "cell_type": "markdown",
   "id": "6f08ab76",
   "metadata": {},
   "source": [
    "训练代价增加了些，不再是0了。也就是我们说的减轻**过拟合**"
   ]
  },
  {
   "cell_type": "code",
   "execution_count": 112,
   "id": "596b5561",
   "metadata": {
    "ExecuteTime": {
     "end_time": "2022-03-07T08:23:58.943489Z",
     "start_time": "2022-03-07T08:23:58.804662Z"
    }
   },
   "outputs": [
    {
     "data": {
      "image/png": "[encoded data removed]",
      "text/plain": [
       "<Figure size 432x288 with 1 Axes>"
      ]
     },
     "metadata": {
      "needs_background": "light"
     },
     "output_type": "display_data"
    }
   ],
   "source": [
    "plot_learning_curve(X_poly, y, Xval_poly, yval, l=100)\n",
    "plt.show()"
   ]
  },
  {
   "cell_type": "markdown",
   "id": "e332b751",
   "metadata": {},
   "source": [
    "太多正则化了，变成**欠拟合**状态"
   ]
  },
  {
   "cell_type": "markdown",
   "id": "057a1eaf",
   "metadata": {},
   "source": [
    "## 找到最佳的lambda"
   ]
  },
  {
   "cell_type": "code",
   "execution_count": 113,
   "id": "7759b1ef",
   "metadata": {
    "ExecuteTime": {
     "end_time": "2022-03-07T08:24:03.036376Z",
     "start_time": "2022-03-07T08:24:03.023408Z"
    }
   },
   "outputs": [],
   "source": [
    "l_candidate = [0, 0.001, 0.003, 0.01, 0.03, 0.1, 0.3, 1, 3, 10]\n",
    "training_cost, cv_cost = [], []"
   ]
  },
  {
   "cell_type": "code",
   "execution_count": 114,
   "id": "2873cb88",
   "metadata": {
    "ExecuteTime": {
     "end_time": "2022-03-07T08:24:03.874885Z",
     "start_time": "2022-03-07T08:24:03.798602Z"
    }
   },
   "outputs": [],
   "source": [
    "for l in l_candidate:\n",
    "    res = linear_regression_np(X_poly, y, l)\n",
    "    \n",
    "    tc = cost(res.x, X_poly, y)\n",
    "    cv = cost(res.x, Xval_poly, yval)\n",
    "    \n",
    "    training_cost.append(tc)\n",
    "    cv_cost.append(cv)"
   ]
  },
  {
   "cell_type": "code",
   "execution_count": 115,
   "id": "66f07a7e",
   "metadata": {
    "ExecuteTime": {
     "end_time": "2022-03-07T08:24:04.671097Z",
     "start_time": "2022-03-07T08:24:04.551766Z"
    }
   },
   "outputs": [
    {
     "data": {
      "image/png": "[encoded data removed]",
      "text/plain": [
       "<Figure size 432x288 with 1 Axes>"
      ]
     },
     "metadata": {
      "needs_background": "light"
     },
     "output_type": "display_data"
    }
   ],
   "source": [
    "plt.plot(l_candidate, training_cost, label='training')\n",
    "plt.plot(l_candidate, cv_cost, label='cross valiadation')\n",
    "plt.legend(loc=2)\n",
    "\n",
    "plt.xlabel('lambda')\n",
    "plt.ylabel('cost')\n",
    "plt.show()"
   ]
  },
  {
   "cell_type": "code",
   "execution_count": 116,
   "id": "a6c339f5",
   "metadata": {
    "ExecuteTime": {
     "end_time": "2022-03-07T08:24:08.518756Z",
     "start_time": "2022-03-07T08:24:08.500612Z"
    }
   },
   "outputs": [
    {
     "data": {
      "text/plain": [
       "1"
      ]
     },
     "execution_count": 116,
     "metadata": {},
     "output_type": "execute_result"
    }
   ],
   "source": [
    "# best cv I got from all those candidates\n",
    "l_candidate[np.argmin(cv_cost)]"
   ]
  },
  {
   "cell_type": "code",
   "execution_count": 117,
   "id": "f2ccf498",
   "metadata": {
    "ExecuteTime": {
     "end_time": "2022-03-07T08:24:09.365172Z",
     "start_time": "2022-03-07T08:24:09.289472Z"
    }
   },
   "outputs": [
    {
     "name": "stdout",
     "output_type": "stream",
     "text": [
      "test cost(l=0) = 10.055426362410126\n",
      "test cost(l=0.001) = 11.001927632262907\n",
      "test cost(l=0.003) = 11.264746551677469\n",
      "test cost(l=0.01) = 10.880780731411715\n",
      "test cost(l=0.03) = 10.022100517865269\n",
      "test cost(l=0.1) = 8.63190793331871\n",
      "test cost(l=0.3) = 7.3366077892272585\n",
      "test cost(l=1) = 7.466283751156784\n",
      "test cost(l=3) = 11.643941860536106\n",
      "test cost(l=10) = 27.715080254176254\n"
     ]
    }
   ],
   "source": [
    "# use the data to compute the cost\n",
    "for l in l_candidate:\n",
    "    theta = linear_regression_np(X_poly, y, l).x\n",
    "    print('test cost(l={}) = {}'.format(l, cost(theta, Xtest_poly, ytest)))"
   ]
  },
  {
   "cell_type": "markdown",
   "id": "fa33354f",
   "metadata": {},
   "source": [
    "调参后， \\lambda = 0.3是最优选择， 这个时候测试代价最小"
   ]
  }
 ],
 "metadata": {
  "kernelspec": {
   "display_name": "Python 3 (ipykernel)",
   "language": "python",
   "name": "python3"
  },
  "language_info": {
   "codemirror_mode": {
    "name": "ipython",
    "version": 3
   },
   "file_extension": ".py",
   "mimetype": "text/x-python",
   "name": "python",
   "nbconvert_exporter": "python",
   "pygments_lexer": "ipython3",
   "version": "3.9.6"
  },
  "toc": {
   "base_numbering": 1,
   "nav_menu": {},
   "number_sections": true,
   "sideBar": true,
   "skip_h1_title": false,
   "title_cell": "Table of Contents",
   "title_sidebar": "Contents",
   "toc_cell": false,
   "toc_position": {},
   "toc_section_display": true,
   "toc_window_display": false
  }
 },
 "nbformat": 4,
 "nbformat_minor": 5
}
