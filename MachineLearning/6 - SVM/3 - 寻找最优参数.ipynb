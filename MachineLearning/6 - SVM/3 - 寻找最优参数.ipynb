{
 "cells": [
  {
   "cell_type": "markdown",
   "id": "39a09a55",
   "metadata": {},
   "source": [
    "# 寻找最优参数"
   ]
  },
  {
   "cell_type": "code",
   "execution_count": 2,
   "id": "06e7b450",
   "metadata": {
    "ExecuteTime": {
     "end_time": "2022-03-08T02:42:05.708174Z",
     "start_time": "2022-03-08T02:42:05.466539Z"
    }
   },
   "outputs": [],
   "source": [
    "from sklearn import svm\n",
    "from sklearn.model_selection import GridSearchCV\n",
    "from sklearn import metrics \n",
    "\n",
    "import numpy as np\n",
    "import pandas as pd\n",
    "import scipy.io as sio"
   ]
  },
  {
   "cell_type": "markdown",
   "id": "66f034be",
   "metadata": {},
   "source": [
    "# load data"
   ]
  },
  {
   "cell_type": "code",
   "execution_count": 3,
   "id": "0b13afe7",
   "metadata": {
    "ExecuteTime": {
     "end_time": "2022-03-08T02:42:51.807541Z",
     "start_time": "2022-03-08T02:42:51.455955Z"
    }
   },
   "outputs": [
    {
     "name": "stdout",
     "output_type": "stream",
     "text": [
      "dict_keys(['__header__', '__version__', '__globals__', 'X', 'y', 'yval', 'Xval'])\n"
     ]
    }
   ],
   "source": [
    "mat = sio.loadmat('./data/ex6data3.mat')\n",
    "print(mat.keys())"
   ]
  },
  {
   "cell_type": "code",
   "execution_count": 4,
   "id": "cd5c9042",
   "metadata": {
    "ExecuteTime": {
     "end_time": "2022-03-08T02:44:12.905061Z",
     "start_time": "2022-03-08T02:44:12.896101Z"
    }
   },
   "outputs": [],
   "source": [
    "training = pd.DataFrame(mat.get('X'), columns=['X1', 'X2'])\n",
    "training['y'] = mat.get('y')\n",
    "\n",
    "cv = pd.DataFrame(mat.get('Xval'), columns=['X1', 'X2'])\n",
    "cv['y'] = mat.get('yval')"
   ]
  },
  {
   "cell_type": "code",
   "execution_count": 5,
   "id": "22e1714e",
   "metadata": {
    "ExecuteTime": {
     "end_time": "2022-03-08T02:44:28.277722Z",
     "start_time": "2022-03-08T02:44:28.253991Z"
    }
   },
   "outputs": [
    {
     "name": "stdout",
     "output_type": "stream",
     "text": [
      "(211, 3)\n"
     ]
    },
    {
     "data": {
      "text/html": [
       "<div>\n",
       "<style scoped>\n",
       "    .dataframe tbody tr th:only-of-type {\n",
       "        vertical-align: middle;\n",
       "    }\n",
       "\n",
       "    .dataframe tbody tr th {\n",
       "        vertical-align: top;\n",
       "    }\n",
       "\n",
       "    .dataframe thead th {\n",
       "        text-align: right;\n",
       "    }\n",
       "</style>\n",
       "<table border=\"1\" class=\"dataframe\">\n",
       "  <thead>\n",
       "    <tr style=\"text-align: right;\">\n",
       "      <th></th>\n",
       "      <th>X1</th>\n",
       "      <th>X2</th>\n",
       "      <th>y</th>\n",
       "    </tr>\n",
       "  </thead>\n",
       "  <tbody>\n",
       "    <tr>\n",
       "      <th>0</th>\n",
       "      <td>-0.158986</td>\n",
       "      <td>0.423977</td>\n",
       "      <td>1</td>\n",
       "    </tr>\n",
       "    <tr>\n",
       "      <th>1</th>\n",
       "      <td>-0.347926</td>\n",
       "      <td>0.470760</td>\n",
       "      <td>1</td>\n",
       "    </tr>\n",
       "    <tr>\n",
       "      <th>2</th>\n",
       "      <td>-0.504608</td>\n",
       "      <td>0.353801</td>\n",
       "      <td>1</td>\n",
       "    </tr>\n",
       "    <tr>\n",
       "      <th>3</th>\n",
       "      <td>-0.596774</td>\n",
       "      <td>0.114035</td>\n",
       "      <td>1</td>\n",
       "    </tr>\n",
       "    <tr>\n",
       "      <th>4</th>\n",
       "      <td>-0.518433</td>\n",
       "      <td>-0.172515</td>\n",
       "      <td>1</td>\n",
       "    </tr>\n",
       "  </tbody>\n",
       "</table>\n",
       "</div>"
      ],
      "text/plain": [
       "         X1        X2  y\n",
       "0 -0.158986  0.423977  1\n",
       "1 -0.347926  0.470760  1\n",
       "2 -0.504608  0.353801  1\n",
       "3 -0.596774  0.114035  1\n",
       "4 -0.518433 -0.172515  1"
      ]
     },
     "execution_count": 5,
     "metadata": {},
     "output_type": "execute_result"
    }
   ],
   "source": [
    "print(training.shape)\n",
    "training.head()"
   ]
  },
  {
   "cell_type": "code",
   "execution_count": 7,
   "id": "aa113cf7",
   "metadata": {
    "ExecuteTime": {
     "end_time": "2022-03-08T02:45:48.255862Z",
     "start_time": "2022-03-08T02:45:48.240028Z"
    }
   },
   "outputs": [
    {
     "name": "stdout",
     "output_type": "stream",
     "text": [
      "(200, 3)\n"
     ]
    },
    {
     "data": {
      "text/html": [
       "<div>\n",
       "<style scoped>\n",
       "    .dataframe tbody tr th:only-of-type {\n",
       "        vertical-align: middle;\n",
       "    }\n",
       "\n",
       "    .dataframe tbody tr th {\n",
       "        vertical-align: top;\n",
       "    }\n",
       "\n",
       "    .dataframe thead th {\n",
       "        text-align: right;\n",
       "    }\n",
       "</style>\n",
       "<table border=\"1\" class=\"dataframe\">\n",
       "  <thead>\n",
       "    <tr style=\"text-align: right;\">\n",
       "      <th></th>\n",
       "      <th>X1</th>\n",
       "      <th>X2</th>\n",
       "      <th>y</th>\n",
       "    </tr>\n",
       "  </thead>\n",
       "  <tbody>\n",
       "    <tr>\n",
       "      <th>0</th>\n",
       "      <td>-0.353062</td>\n",
       "      <td>-0.673902</td>\n",
       "      <td>0</td>\n",
       "    </tr>\n",
       "    <tr>\n",
       "      <th>1</th>\n",
       "      <td>-0.227126</td>\n",
       "      <td>0.447320</td>\n",
       "      <td>1</td>\n",
       "    </tr>\n",
       "    <tr>\n",
       "      <th>2</th>\n",
       "      <td>0.092898</td>\n",
       "      <td>-0.753524</td>\n",
       "      <td>0</td>\n",
       "    </tr>\n",
       "    <tr>\n",
       "      <th>3</th>\n",
       "      <td>0.148243</td>\n",
       "      <td>-0.718473</td>\n",
       "      <td>0</td>\n",
       "    </tr>\n",
       "    <tr>\n",
       "      <th>4</th>\n",
       "      <td>-0.001512</td>\n",
       "      <td>0.162928</td>\n",
       "      <td>0</td>\n",
       "    </tr>\n",
       "  </tbody>\n",
       "</table>\n",
       "</div>"
      ],
      "text/plain": [
       "         X1        X2  y\n",
       "0 -0.353062 -0.673902  0\n",
       "1 -0.227126  0.447320  1\n",
       "2  0.092898 -0.753524  0\n",
       "3  0.148243 -0.718473  0\n",
       "4 -0.001512  0.162928  0"
      ]
     },
     "execution_count": 7,
     "metadata": {},
     "output_type": "execute_result"
    }
   ],
   "source": [
    "print(cv.shape)\n",
    "cv.head()"
   ]
  },
  {
   "cell_type": "markdown",
   "id": "720fd782",
   "metadata": {},
   "source": [
    "# manual grid search for C and /delta"
   ]
  },
  {
   "cell_type": "code",
   "execution_count": 8,
   "id": "afb75069",
   "metadata": {
    "ExecuteTime": {
     "end_time": "2022-03-08T02:48:02.982612Z",
     "start_time": "2022-03-08T02:48:02.976961Z"
    }
   },
   "outputs": [],
   "source": [
    "candidata = [0.01, 0.03, 0.1, 0.3, 1, 3, 10, 30, 100]"
   ]
  },
  {
   "cell_type": "code",
   "execution_count": 10,
   "id": "a37313f5",
   "metadata": {
    "ExecuteTime": {
     "end_time": "2022-03-08T02:49:02.272237Z",
     "start_time": "2022-03-08T02:49:02.257207Z"
    }
   },
   "outputs": [
    {
     "data": {
      "text/plain": [
       "81"
      ]
     },
     "execution_count": 10,
     "metadata": {},
     "output_type": "execute_result"
    }
   ],
   "source": [
    "# gamma to comply with sklearn parameter name\n",
    "combination = [(C, gamma) for C in candidata for gamma in candidata]\n",
    "len(combination)"
   ]
  },
  {
   "cell_type": "code",
   "execution_count": 12,
   "id": "97b86ec3",
   "metadata": {
    "ExecuteTime": {
     "end_time": "2022-03-08T02:50:41.683832Z",
     "start_time": "2022-03-08T02:50:41.178347Z"
    }
   },
   "outputs": [],
   "source": [
    "search = []\n",
    "\n",
    "for C, gamma in combination:\n",
    "    svc = svm.SVC(C=C, gamma=gamma)\n",
    "    svc.fit(training[['X1', 'X2']], training['y'])\n",
    "    search.append(svc.score(cv[['X1', 'X2']], cv['y']))"
   ]
  },
  {
   "cell_type": "code",
   "execution_count": 13,
   "id": "21d1cb60",
   "metadata": {
    "ExecuteTime": {
     "end_time": "2022-03-08T02:51:30.615198Z",
     "start_time": "2022-03-08T02:51:30.576750Z"
    }
   },
   "outputs": [
    {
     "name": "stdout",
     "output_type": "stream",
     "text": [
      "0.965 (0.3, 100)\n"
     ]
    }
   ],
   "source": [
    "best_score = search[np.argmax(search)]\n",
    "best_param = combination[np.argmax(search)]\n",
    "\n",
    "print(best_score, best_param)"
   ]
  },
  {
   "cell_type": "code",
   "execution_count": 14,
   "id": "3aa7dbde",
   "metadata": {
    "ExecuteTime": {
     "end_time": "2022-03-08T02:53:15.830910Z",
     "start_time": "2022-03-08T02:53:15.806973Z"
    }
   },
   "outputs": [
    {
     "name": "stdout",
     "output_type": "stream",
     "text": [
      "              precision    recall  f1-score   support\n",
      "\n",
      "           0       0.92      0.96      0.94       113\n",
      "           1       0.94      0.89      0.91        87\n",
      "\n",
      "    accuracy                           0.93       200\n",
      "   macro avg       0.93      0.92      0.92       200\n",
      "weighted avg       0.93      0.93      0.92       200\n",
      "\n"
     ]
    }
   ],
   "source": [
    "best_svc = svm.SVC(C=100, gamma=0.3)\n",
    "best_svc.fit(training[['X1', 'X2']], training['y'])\n",
    "ypred = best_svc.predict(cv[['X1', 'X2']])\n",
    "\n",
    "print(metrics.classification_report(cv['y'], ypred))"
   ]
  },
  {
   "cell_type": "markdown",
   "id": "1a8e89fd",
   "metadata": {},
   "source": [
    "# sklearn GridSearchCV (网格搜索)"
   ]
  },
  {
   "cell_type": "code",
   "execution_count": 16,
   "id": "3d29554e",
   "metadata": {
    "ExecuteTime": {
     "end_time": "2022-03-08T02:55:11.349585Z",
     "start_time": "2022-03-08T02:55:10.852893Z"
    }
   },
   "outputs": [
    {
     "data": {
      "text/plain": [
       "GridSearchCV(estimator=SVC(), n_jobs=-1,\n",
       "             param_grid={'C': [0.01, 0.03, 0.1, 0.3, 1, 3, 10, 30, 100],\n",
       "                         'gamma': [0.01, 0.03, 0.1, 0.3, 1, 3, 10, 30, 100]})"
      ]
     },
     "execution_count": 16,
     "metadata": {},
     "output_type": "execute_result"
    }
   ],
   "source": [
    "parameters = {'C': candidata, 'gamma': candidata}\n",
    "svc = svm.SVC()\n",
    "clf = GridSearchCV(svc, parameters, n_jobs=-1)\n",
    "clf.fit(training[['X1', 'X2']], training['y'])"
   ]
  },
  {
   "cell_type": "code",
   "execution_count": 17,
   "id": "6ca8b3a7",
   "metadata": {
    "ExecuteTime": {
     "end_time": "2022-03-08T02:55:19.194893Z",
     "start_time": "2022-03-08T02:55:19.188945Z"
    }
   },
   "outputs": [
    {
     "data": {
      "text/plain": [
       "{'C': 30, 'gamma': 3}"
      ]
     },
     "execution_count": 17,
     "metadata": {},
     "output_type": "execute_result"
    }
   ],
   "source": [
    "clf.best_params_"
   ]
  },
  {
   "cell_type": "code",
   "execution_count": 19,
   "id": "13ed42cc",
   "metadata": {
    "ExecuteTime": {
     "end_time": "2022-03-08T02:55:43.697673Z",
     "start_time": "2022-03-08T02:55:43.679722Z"
    }
   },
   "outputs": [
    {
     "data": {
      "text/plain": [
       "0.9194905869324475"
      ]
     },
     "execution_count": 19,
     "metadata": {},
     "output_type": "execute_result"
    }
   ],
   "source": [
    "clf.best_score_"
   ]
  },
  {
   "cell_type": "code",
   "execution_count": 21,
   "id": "0126ec86",
   "metadata": {
    "ExecuteTime": {
     "end_time": "2022-03-08T02:56:28.692534Z",
     "start_time": "2022-03-08T02:56:28.668319Z"
    }
   },
   "outputs": [
    {
     "name": "stdout",
     "output_type": "stream",
     "text": [
      "              precision    recall  f1-score   support\n",
      "\n",
      "           0       0.95      0.96      0.96       113\n",
      "           1       0.95      0.93      0.94        87\n",
      "\n",
      "    accuracy                           0.95       200\n",
      "   macro avg       0.95      0.95      0.95       200\n",
      "weighted avg       0.95      0.95      0.95       200\n",
      "\n"
     ]
    }
   ],
   "source": [
    "ypred = clf.predict(cv[['X1', 'X2']])\n",
    "print(metrics.classification_report(cv['y'], ypred))"
   ]
  },
  {
   "cell_type": "markdown",
   "id": "3be70cd5",
   "metadata": {},
   "source": [
    "> curiouly... they are not the same result. What?"
   ]
  },
  {
   "cell_type": "markdown",
   "id": "6de75af1",
   "metadata": {},
   "source": [
    "So the built in sklearn grid search is trying to find the best candidate from **training set** . However, when we were doing manual grid search, we train using training set, but we pick the best from **cross validation set**. This is reason of difference."
   ]
  },
  {
   "cell_type": "markdown",
   "id": "080daa7d",
   "metadata": {},
   "source": [
    "**I was wrong. This is not the reason.**"
   ]
  },
  {
   "cell_type": "markdown",
   "id": "a83818ab",
   "metadata": {},
   "source": [
    "It turns out that **GridSearch** will appropriate part of data as CV and use it to find the best candidata.\n",
    "So the reason for difference result is just that GridSearch here is just using part of **training data** to train because it need part of data as cv set"
   ]
  }
 ],
 "metadata": {
  "kernelspec": {
   "display_name": "Python 3 (ipykernel)",
   "language": "python",
   "name": "python3"
  },
  "language_info": {
   "codemirror_mode": {
    "name": "ipython",
    "version": 3
   },
   "file_extension": ".py",
   "mimetype": "text/x-python",
   "name": "python",
   "nbconvert_exporter": "python",
   "pygments_lexer": "ipython3",
   "version": "3.9.6"
  },
  "toc": {
   "base_numbering": 1,
   "nav_menu": {},
   "number_sections": true,
   "sideBar": true,
   "skip_h1_title": false,
   "title_cell": "Table of Contents",
   "title_sidebar": "Contents",
   "toc_cell": false,
   "toc_position": {},
   "toc_section_display": true,
   "toc_window_display": false
  }
 },
 "nbformat": 4,
 "nbformat_minor": 5
}
