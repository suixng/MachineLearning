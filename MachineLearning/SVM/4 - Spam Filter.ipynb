{
 "cells": [
  {
   "cell_type": "markdown",
   "id": "578c2fec",
   "metadata": {},
   "source": [
    "# 垃圾邮件检测"
   ]
  },
  {
   "cell_type": "code",
   "execution_count": 1,
   "id": "ddec8e6e",
   "metadata": {
    "ExecuteTime": {
     "end_time": "2022-03-08T06:08:57.418382Z",
     "start_time": "2022-03-08T06:08:57.381327Z"
    }
   },
   "outputs": [],
   "source": [
    "from sklearn import svm\n",
    "from sklearn import metrics\n",
    "from sklearn.linear_model import LogisticRegression\n",
    "\n",
    "import scipy.io as sio"
   ]
  },
  {
   "cell_type": "markdown",
   "id": "2183090f",
   "metadata": {},
   "source": [
    "> I think the hard part is how to vecotrize emails  \n",
    "> Using this preprocessed data set is cheating XD"
   ]
  },
  {
   "cell_type": "code",
   "execution_count": 2,
   "id": "aac66b90",
   "metadata": {
    "ExecuteTime": {
     "end_time": "2022-03-08T06:11:47.110164Z",
     "start_time": "2022-03-08T06:11:46.951018Z"
    }
   },
   "outputs": [
    {
     "data": {
      "text/plain": [
       "dict_keys(['__header__', '__version__', '__globals__', 'X', 'y'])"
      ]
     },
     "execution_count": 2,
     "metadata": {},
     "output_type": "execute_result"
    }
   ],
   "source": [
    "mat_tr = sio.loadmat('data/spamTrain.mat')\n",
    "mat_tr.keys()"
   ]
  },
  {
   "cell_type": "markdown",
   "id": "49958d70",
   "metadata": {},
   "source": [
    "> be careful with the column vector:(4000, 1) is not the same as (4000, )"
   ]
  },
  {
   "cell_type": "code",
   "execution_count": 3,
   "id": "e9d08410",
   "metadata": {
    "ExecuteTime": {
     "end_time": "2022-03-08T06:13:10.488442Z",
     "start_time": "2022-03-08T06:13:10.481428Z"
    }
   },
   "outputs": [
    {
     "data": {
      "text/plain": [
       "((4000, 1899), (4000,))"
      ]
     },
     "execution_count": 3,
     "metadata": {},
     "output_type": "execute_result"
    }
   ],
   "source": [
    "X, y = mat_tr.get('X'), mat_tr.get('y').ravel()\n",
    "X.shape, y.shape"
   ]
  },
  {
   "cell_type": "code",
   "execution_count": 4,
   "id": "9a4759ab",
   "metadata": {
    "ExecuteTime": {
     "end_time": "2022-03-08T06:13:58.498790Z",
     "start_time": "2022-03-08T06:13:58.149621Z"
    }
   },
   "outputs": [
    {
     "data": {
      "text/plain": [
       "dict_keys(['__header__', '__version__', '__globals__', 'Xtest', 'ytest'])"
      ]
     },
     "execution_count": 4,
     "metadata": {},
     "output_type": "execute_result"
    }
   ],
   "source": [
    "mat_test = sio.loadmat('data/spamTest.mat')\n",
    "mat_test.keys()"
   ]
  },
  {
   "cell_type": "code",
   "execution_count": 5,
   "id": "121e708d",
   "metadata": {
    "ExecuteTime": {
     "end_time": "2022-03-08T06:14:47.993586Z",
     "start_time": "2022-03-08T06:14:47.985610Z"
    }
   },
   "outputs": [
    {
     "data": {
      "text/plain": [
       "((1000, 1899), (1000,))"
      ]
     },
     "execution_count": 5,
     "metadata": {},
     "output_type": "execute_result"
    }
   ],
   "source": [
    "test_X, test_y = mat_test.get('Xtest'), mat_test.get('ytest').ravel()\n",
    "test_X.shape, test_y.shape"
   ]
  },
  {
   "cell_type": "markdown",
   "id": "8c33d1e4",
   "metadata": {},
   "source": [
    "# fit SVM model"
   ]
  },
  {
   "cell_type": "code",
   "execution_count": 6,
   "id": "a80d5cbe",
   "metadata": {
    "ExecuteTime": {
     "end_time": "2022-03-08T06:15:21.484492Z",
     "start_time": "2022-03-08T06:15:21.467513Z"
    }
   },
   "outputs": [],
   "source": [
    "svc = svm.SVC()"
   ]
  },
  {
   "cell_type": "code",
   "execution_count": 7,
   "id": "4a1422c8",
   "metadata": {
    "ExecuteTime": {
     "end_time": "2022-03-08T06:15:38.099451Z",
     "start_time": "2022-03-08T06:15:33.052967Z"
    }
   },
   "outputs": [
    {
     "data": {
      "text/plain": [
       "SVC()"
      ]
     },
     "execution_count": 7,
     "metadata": {},
     "output_type": "execute_result"
    }
   ],
   "source": [
    "svc.fit(X, y)"
   ]
  },
  {
   "cell_type": "code",
   "execution_count": 8,
   "id": "ea420f2c",
   "metadata": {
    "ExecuteTime": {
     "end_time": "2022-03-08T06:16:10.462619Z",
     "start_time": "2022-03-08T06:16:08.636429Z"
    }
   },
   "outputs": [
    {
     "name": "stdout",
     "output_type": "stream",
     "text": [
      "              precision    recall  f1-score   support\n",
      "\n",
      "           0       0.99      1.00      0.99       692\n",
      "           1       0.99      0.97      0.98       308\n",
      "\n",
      "    accuracy                           0.99      1000\n",
      "   macro avg       0.99      0.98      0.98      1000\n",
      "weighted avg       0.99      0.99      0.99      1000\n",
      "\n"
     ]
    }
   ],
   "source": [
    "pred = svc.predict(test_X)\n",
    "print(metrics.classification_report(test_y, pred))"
   ]
  },
  {
   "cell_type": "markdown",
   "id": "42cc348d",
   "metadata": {},
   "source": [
    "# what about linear logistic regression?"
   ]
  },
  {
   "cell_type": "code",
   "execution_count": 9,
   "id": "778d8edd",
   "metadata": {
    "ExecuteTime": {
     "end_time": "2022-03-08T06:16:59.539326Z",
     "start_time": "2022-03-08T06:16:58.890611Z"
    }
   },
   "outputs": [
    {
     "data": {
      "text/plain": [
       "LogisticRegression()"
      ]
     },
     "execution_count": 9,
     "metadata": {},
     "output_type": "execute_result"
    }
   ],
   "source": [
    "logit = LogisticRegression()\n",
    "logit.fit(X, y)"
   ]
  },
  {
   "cell_type": "code",
   "execution_count": 10,
   "id": "d053e790",
   "metadata": {
    "ExecuteTime": {
     "end_time": "2022-03-08T06:17:32.232518Z",
     "start_time": "2022-03-08T06:17:32.204004Z"
    }
   },
   "outputs": [
    {
     "name": "stdout",
     "output_type": "stream",
     "text": [
      "              precision    recall  f1-score   support\n",
      "\n",
      "           0       1.00      0.99      1.00       692\n",
      "           1       0.99      0.99      0.99       308\n",
      "\n",
      "    accuracy                           0.99      1000\n",
      "   macro avg       0.99      0.99      0.99      1000\n",
      "weighted avg       0.99      0.99      0.99      1000\n",
      "\n"
     ]
    }
   ],
   "source": [
    "pred = logit.predict(test_X)\n",
    "print(metrics.classification_report(test_y, pred))"
   ]
  },
  {
   "cell_type": "markdown",
   "id": "0ec2f69e",
   "metadata": {},
   "source": [
    "Result: logistic is better than SVM"
   ]
  }
 ],
 "metadata": {
  "kernelspec": {
   "display_name": "Python 3 (ipykernel)",
   "language": "python",
   "name": "python3"
  },
  "language_info": {
   "codemirror_mode": {
    "name": "ipython",
    "version": 3
   },
   "file_extension": ".py",
   "mimetype": "text/x-python",
   "name": "python",
   "nbconvert_exporter": "python",
   "pygments_lexer": "ipython3",
   "version": "3.9.6"
  },
  "toc": {
   "base_numbering": 1,
   "nav_menu": {},
   "number_sections": true,
   "sideBar": true,
   "skip_h1_title": false,
   "title_cell": "Table of Contents",
   "title_sidebar": "Contents",
   "toc_cell": false,
   "toc_position": {},
   "toc_section_display": true,
   "toc_window_display": false
  }
 },
 "nbformat": 4,
 "nbformat_minor": 5
}
